{
  "nbformat": 4,
  "nbformat_minor": 0,
  "metadata": {
    "colab": {
      "provenance": [],
      "authorship_tag": "ABX9TyO4DVjfDfa3/wydf9sIZERb",
      "include_colab_link": true
    },
    "kernelspec": {
      "name": "python3",
      "display_name": "Python 3"
    },
    "language_info": {
      "name": "python"
    }
  },
  "cells": [
    {
      "cell_type": "markdown",
      "metadata": {
        "id": "view-in-github",
        "colab_type": "text"
      },
      "source": [
        "<a href=\"https://colab.research.google.com/github/coder-j-0090/Self_Study/blob/main/Python_DataAnalysis_ML/6_%EB%A8%B8%EC%8B%A0%EB%9F%AC%EB%8B%9D_KNN(Iris).ipynb\" target=\"_parent\"><img src=\"https://colab.research.google.com/assets/colab-badge.svg\" alt=\"Open In Colab\"/></a>"
      ]
    },
    {
      "cell_type": "markdown",
      "source": [
        "k = 갯수\n",
        "NN = Nearest Neighbor(최근접)\n",
        "\n",
        "kNN(분류기 = Classifier)\n",
        "\n",
        "1111111 = 2\n",
        "3333333 = 4\n",
        "******* = ?\n",
        "\n",
        "?는 무엇일까? 위에 두개를 scatter plot 에 그려서 matplotlib에 넣고(데이터 시각화) * 근처에 1이 많으면 *=2 일 확률이 높고 반대로 3이 많으면 *=4일 확률이 높아지다.\n",
        "\n",
        "최근접 이웃들을 가지고 ? 를 찾을때 이웃들이 다 a 니까 ?도 a일것이다. k는 a(이웃)의 갯수다"
      ],
      "metadata": {
        "id": "o-tSY9fqPYUm"
      }
    },
    {
      "cell_type": "markdown",
      "source": [
        "Statistic 공부하자"
      ],
      "metadata": {
        "id": "SRoMauVTSRdu"
      }
    },
    {
      "cell_type": "code",
      "execution_count": null,
      "metadata": {
        "id": "FcNLz_DxO1KR"
      },
      "outputs": [],
      "source": [
        "import numpy as np\n",
        "import pandas as pd\n",
        "from sklearn.model_selection import train_test_split\n",
        "from sklearn.preprocessing import MinMaxScaler\n",
        "from sklearn.neighbors import KNeighborsClassifier\n",
        "import matplotlib.pyplot as plt\n",
        "from sklearn import metrics"
      ]
    },
    {
      "cell_type": "code",
      "source": [
        "from google.colab import drive\n",
        "drive.mount('/content/drive')"
      ],
      "metadata": {
        "colab": {
          "base_uri": "https://localhost:8080/"
        },
        "id": "kSXS2rUMSr-4",
        "outputId": "cc738c77-c507-48f5-de98-0d7230de1781"
      },
      "execution_count": null,
      "outputs": [
        {
          "output_type": "stream",
          "name": "stdout",
          "text": [
            "Mounted at /content/drive\n"
          ]
        }
      ]
    },
    {
      "cell_type": "code",
      "source": [
        "data_path = '/content/drive/MyDrive/iris.csv'\n",
        "iris_data = pd.read_csv(data_path)\n",
        "\n",
        "print(iris_data.head(10))"
      ],
      "metadata": {
        "colab": {
          "base_uri": "https://localhost:8080/"
        },
        "id": "PylCLPwbSzv3",
        "outputId": "76a4e29a-1995-4595-f9c7-71159b93969a"
      },
      "execution_count": null,
      "outputs": [
        {
          "output_type": "stream",
          "name": "stdout",
          "text": [
            "   caseno  SepalLength  SepalWidth  PetalLength  PetalWidth Species\n",
            "0       1          5.1         3.5          1.4         0.2  setosa\n",
            "1       2          4.9         3.0          1.4         0.2  setosa\n",
            "2       3          4.7         3.2          1.3         0.2  setosa\n",
            "3       4          4.6         3.1          1.5         0.2  setosa\n",
            "4       5          5.0         3.6          1.4         0.2  setosa\n",
            "5       6          5.4         3.9          1.7         0.4  setosa\n",
            "6       7          4.6         3.4          1.4         0.3  setosa\n",
            "7       8          5.0         3.4          1.5         0.2  setosa\n",
            "8       9          4.4         2.9          1.4         0.2  setosa\n",
            "9      10          4.9         3.1          1.5         0.1  setosa\n"
          ]
        }
      ]
    },
    {
      "cell_type": "markdown",
      "source": [
        "이 밑부터 자르고 머 하는거 knn 전까지는 다 데이터전처리다"
      ],
      "metadata": {
        "id": "cSPKZO87bc2p"
      }
    },
    {
      "cell_type": "code",
      "source": [
        "#numpy 이용하여 print. numpy가 파이썬 리스트보다 빠르다\n",
        "np_iris_data = np.array(iris_data)\n",
        "\n",
        "#                 [세로 0부터 5미만, 가로줄 전부]\n",
        "print(np_iris_data[0:5, :])\n",
        "#표의 1,2,3차원 이랑 가로갯수 세로갯수 확인할 때 사용\n",
        "print(np_iris_data.shape)\n",
        "\n",
        "#Numpy 이용하여 slicing\n",
        "#index와 label(결과치) 빼고 input variable 을 x_data에 저장\n",
        "X_data = np_iris_data[:, 1:5]   #Index(세로)는 전부다. Columns(가로)줄은 1부터 4(5미만)까지. Caseno 랑 Species 제외\n",
        "y_data = np_iris_data[:, -1]    #y 에는 역순으로 읽을때 -1을 사용\n",
        "\n",
        "#data 분할\n",
        "\n",
        "#0.3은 30%다. 70%는 트레이닝 set 으로 사용하고\n",
        "#             30%는 70%의 트레이닝 set이 잘 됬는가 검증하는 과정이다.\n",
        "#괄호 전까지는 정해진 코드다. 수정 불가. 괄호안의 데이터(x,y 데이터는 변수이름 따라 다르고 test_size 도 내가 정하는 비율에 따라 달라진다.)\n",
        "X_train, X_test, y_train, y_test = train_test_split(X_data, y_data, test_size = 0.3)"
      ],
      "metadata": {
        "colab": {
          "base_uri": "https://localhost:8080/"
        },
        "id": "nx-pFDY6TyVu",
        "outputId": "5b1a8aa4-a198-46d8-8f42-aa5f47e543f2"
      },
      "execution_count": null,
      "outputs": [
        {
          "output_type": "stream",
          "name": "stdout",
          "text": [
            "[[1 5.1 3.5 1.4 0.2 'setosa']\n",
            " [2 4.9 3.0 1.4 0.2 'setosa']\n",
            " [3 4.7 3.2 1.3 0.2 'setosa']\n",
            " [4 4.6 3.1 1.5 0.2 'setosa']\n",
            " [5 5.0 3.6 1.4 0.2 'setosa']]\n",
            "(150, 6)\n"
          ]
        }
      ]
    },
    {
      "cell_type": "code",
      "source": [
        "#x값 데이터를 트레이닝할 때의 모양(가로 세로 갯수)을 출력\n",
        "print(X_train.shape)"
      ],
      "metadata": {
        "colab": {
          "base_uri": "https://localhost:8080/"
        },
        "id": "_wXjg5PiX9MJ",
        "outputId": "41bac4e8-3976-4b91-cedf-376c80a55d5a"
      },
      "execution_count": null,
      "outputs": [
        {
          "output_type": "stream",
          "name": "stdout",
          "text": [
            "(105, 4)\n"
          ]
        }
      ]
    },
    {
      "cell_type": "markdown",
      "source": [
        "# 정규화\n",
        "MinMaxScaler()는 머신 러닝에서 데이터를 스케일링하기 위해 사용되는 방법 중 하나입니다. 주어진 데이터를 최소값과 최대값 사이의 범위로 변환하는데 사용됩니다. MinMaxScaler()를 사용할 때 scaler.fit()을 한 번만 사용하는 이유는 다음과 같습니다.\n",
        "\n",
        "\n",
        "### Fit 메서드의 역할:\n",
        "scaler.fit()은 주어진 데이터를 분석하여 스케일링을 위한 변환 기준을 결정하는 역할을 합니다. 주어진 데이터의 최소값과 최대값을 확인하고 스케일링에 필요한 파라미터를 설정합니다.\n",
        "\n",
        "\n",
        "### 학습 데이터의 통일성:\n",
        "머신 러닝에서는 학습 데이터와 테스트 데이터가 동일한 스케일링을 가져야 합니다. 따라서 학습 데이터에 대해서만 fit()을 호출하고, 테스트 데이터에 대해서는 동일한 scaler를 사용하여 변환(transform)을 수행해야 합니다. 이렇게 하면 학습 데이터와 테스트 데이터가 일관된 스케일링을 가지게 되어 모델의 성능을 더 정확하게 평가할 수 있습니다.\n",
        "\n",
        "\n",
        "### 데이터 노출 방지:\n",
        "학습 데이터에 대해서만 fit()을 수행하고 테스트 데이터에는 fit()을 수행하지 않는 이유는, 테스트 데이터에 대해 스케일링을 수행할 때마다 최소값과 최대값이 변하기 때문입니다. 이는 테스트 데이터가 학습 데이터와 다른 분포를 가질 수 있게 하고, 학습 데이터로부터 노출된 정보를 테스트 데이터로 누설하는 것을 방지합니다.\n",
        "\n",
        "\n",
        "\n",
        "###따라서,\n",
        "MinMaxScaler()에서 scaler.fit()은 주로 학습 데이터에 대해서만 호출하며, 테스트 데이터에 대해서는 동일한 scaler를 사용하여 transform()만 호출하여 스케일링을 적용합니다. 이를 통해 학습 데이터와 테스트 데이터가 일관된 스케일링을 가지게 하고, 모델의 성능을 정확하게 평가할 수 있도록 합니다."
      ],
      "metadata": {
        "id": "yFFnoE4ZrhJS"
      }
    },
    {
      "cell_type": "code",
      "source": [
        "#정규화(normalization)      데이터의 단위가 다르면 컴퓨터가 헷갈릴 가능성이 있다.\n",
        "#숫자는 달라도 비율은 비슷하겟지.\n",
        "#그래서 x축 y축의 최댓값을 각각 1로 설정해놓고 숫자에 상관없이 비율로 인식시키면\n",
        "#단위가 달라도 같은 비율로서 데이터로 인식\n",
        "\n",
        "#직선거리로 갈때는(점 사이에 장애물 없을때는 유클리디안 디스턴스 사용, 만약에 장애물 같은게 있다면 맨해턴 텍시(수직으로 이동한다).)\n",
        "\n",
        "\n",
        "#비율 조정하는걸 scaling 이라고 부른다. 그걸 하기위해서 함수 Scaler 생성\n",
        "scaler = MinMaxScaler()     #자를 만들고(최솟값 최댓값 찾기)\n",
        "\n",
        "\n",
        "#예를 들어서 최소값이 4고 최댓값이 6이면 4를 0으로 취급하고 6을 1로 취급\n",
        "scaler.fit(X_train)         #[0,1] bound : X_trian 에서 min, max를 찾아서 scaler를 [0,1]로 바꿈\n",
        "\n",
        "\n",
        "\n",
        "#scaler.fit(X_test) #X_train의 비율을 따라가기 위해 안해줌\n",
        "#테스트로 scaler(자) 를 만들면 자가 두개가 되서 판단이 헷갈린다.\n",
        "\n",
        "\n",
        "#scaler.fit에서 트레이닝 한것에 맞게 X_train 과 X_Test를 변환\n",
        "X_train = scaler.transform(X_train)     #학습된 scaler로 데이터를 변환\n",
        "X_test = scaler.transform(X_test)       #학습된 scaler로 데이터를 변환"
      ],
      "metadata": {
        "id": "BTMAZcc5YGR4"
      },
      "execution_count": null,
      "outputs": []
    },
    {
      "cell_type": "code",
      "source": [
        "#0에서 1 사이의 숫자들로 바뀌어 있다.\n",
        "print(X_train)"
      ],
      "metadata": {
        "id": "uQRBYzXxbNJS"
      },
      "execution_count": null,
      "outputs": []
    },
    {
      "cell_type": "code",
      "source": [
        "#k-NN 학습 / 훈련\n",
        "k = 5 #hyperparameter\n",
        "\n",
        "#           KNN 분류기(생성자다). n_neighbors는 지정되어 있는 변수의 값이다(변경불가).\n",
        "knn_model = KNeighborsClassifier(n_neighbors = k)       #생성자 안에다 n개의 근처값(n개의 이웃) 가까운 놈들의 갯수 지정\n",
        "knn_model.fit(X_train, y_train)     #모델에 학습함 X_train, y_train으로"
      ],
      "metadata": {
        "colab": {
          "base_uri": "https://localhost:8080/",
          "height": 75
        },
        "id": "njC4AJDebjFT",
        "outputId": "2b8b7448-68fd-422f-8ace-46ca8c8cdd43"
      },
      "execution_count": null,
      "outputs": [
        {
          "output_type": "execute_result",
          "data": {
            "text/plain": [
              "KNeighborsClassifier()"
            ],
            "text/html": [
              "<style>#sk-container-id-1 {color: black;background-color: white;}#sk-container-id-1 pre{padding: 0;}#sk-container-id-1 div.sk-toggleable {background-color: white;}#sk-container-id-1 label.sk-toggleable__label {cursor: pointer;display: block;width: 100%;margin-bottom: 0;padding: 0.3em;box-sizing: border-box;text-align: center;}#sk-container-id-1 label.sk-toggleable__label-arrow:before {content: \"▸\";float: left;margin-right: 0.25em;color: #696969;}#sk-container-id-1 label.sk-toggleable__label-arrow:hover:before {color: black;}#sk-container-id-1 div.sk-estimator:hover label.sk-toggleable__label-arrow:before {color: black;}#sk-container-id-1 div.sk-toggleable__content {max-height: 0;max-width: 0;overflow: hidden;text-align: left;background-color: #f0f8ff;}#sk-container-id-1 div.sk-toggleable__content pre {margin: 0.2em;color: black;border-radius: 0.25em;background-color: #f0f8ff;}#sk-container-id-1 input.sk-toggleable__control:checked~div.sk-toggleable__content {max-height: 200px;max-width: 100%;overflow: auto;}#sk-container-id-1 input.sk-toggleable__control:checked~label.sk-toggleable__label-arrow:before {content: \"▾\";}#sk-container-id-1 div.sk-estimator input.sk-toggleable__control:checked~label.sk-toggleable__label {background-color: #d4ebff;}#sk-container-id-1 div.sk-label input.sk-toggleable__control:checked~label.sk-toggleable__label {background-color: #d4ebff;}#sk-container-id-1 input.sk-hidden--visually {border: 0;clip: rect(1px 1px 1px 1px);clip: rect(1px, 1px, 1px, 1px);height: 1px;margin: -1px;overflow: hidden;padding: 0;position: absolute;width: 1px;}#sk-container-id-1 div.sk-estimator {font-family: monospace;background-color: #f0f8ff;border: 1px dotted black;border-radius: 0.25em;box-sizing: border-box;margin-bottom: 0.5em;}#sk-container-id-1 div.sk-estimator:hover {background-color: #d4ebff;}#sk-container-id-1 div.sk-parallel-item::after {content: \"\";width: 100%;border-bottom: 1px solid gray;flex-grow: 1;}#sk-container-id-1 div.sk-label:hover label.sk-toggleable__label {background-color: #d4ebff;}#sk-container-id-1 div.sk-serial::before {content: \"\";position: absolute;border-left: 1px solid gray;box-sizing: border-box;top: 0;bottom: 0;left: 50%;z-index: 0;}#sk-container-id-1 div.sk-serial {display: flex;flex-direction: column;align-items: center;background-color: white;padding-right: 0.2em;padding-left: 0.2em;position: relative;}#sk-container-id-1 div.sk-item {position: relative;z-index: 1;}#sk-container-id-1 div.sk-parallel {display: flex;align-items: stretch;justify-content: center;background-color: white;position: relative;}#sk-container-id-1 div.sk-item::before, #sk-container-id-1 div.sk-parallel-item::before {content: \"\";position: absolute;border-left: 1px solid gray;box-sizing: border-box;top: 0;bottom: 0;left: 50%;z-index: -1;}#sk-container-id-1 div.sk-parallel-item {display: flex;flex-direction: column;z-index: 1;position: relative;background-color: white;}#sk-container-id-1 div.sk-parallel-item:first-child::after {align-self: flex-end;width: 50%;}#sk-container-id-1 div.sk-parallel-item:last-child::after {align-self: flex-start;width: 50%;}#sk-container-id-1 div.sk-parallel-item:only-child::after {width: 0;}#sk-container-id-1 div.sk-dashed-wrapped {border: 1px dashed gray;margin: 0 0.4em 0.5em 0.4em;box-sizing: border-box;padding-bottom: 0.4em;background-color: white;}#sk-container-id-1 div.sk-label label {font-family: monospace;font-weight: bold;display: inline-block;line-height: 1.2em;}#sk-container-id-1 div.sk-label-container {text-align: center;}#sk-container-id-1 div.sk-container {/* jupyter's `normalize.less` sets `[hidden] { display: none; }` but bootstrap.min.css set `[hidden] { display: none !important; }` so we also need the `!important` here to be able to override the default hidden behavior on the sphinx rendered scikit-learn.org. See: https://github.com/scikit-learn/scikit-learn/issues/21755 */display: inline-block !important;position: relative;}#sk-container-id-1 div.sk-text-repr-fallback {display: none;}</style><div id=\"sk-container-id-1\" class=\"sk-top-container\"><div class=\"sk-text-repr-fallback\"><pre>KNeighborsClassifier()</pre><b>In a Jupyter environment, please rerun this cell to show the HTML representation or trust the notebook. <br />On GitHub, the HTML representation is unable to render, please try loading this page with nbviewer.org.</b></div><div class=\"sk-container\" hidden><div class=\"sk-item\"><div class=\"sk-estimator sk-toggleable\"><input class=\"sk-toggleable__control sk-hidden--visually\" id=\"sk-estimator-id-1\" type=\"checkbox\" checked><label for=\"sk-estimator-id-1\" class=\"sk-toggleable__label sk-toggleable__label-arrow\">KNeighborsClassifier</label><div class=\"sk-toggleable__content\"><pre>KNeighborsClassifier()</pre></div></div></div></div></div>"
            ]
          },
          "metadata": {},
          "execution_count": 8
        }
      ]
    },
    {
      "cell_type": "code",
      "source": [
        "#k-NN 평가 / X_test, y_test으로\n",
        "#knn_pred_train = knn_model.predict(X_train) 이거는 안됨 /unseen data(훈련에 사용되지 않은 데이터)를 사용해야됨\n",
        "#unseen data를 사용해야 하는 이유는 트레이닝 한 데이터로 predict 를 하게되면 과적합(overfit)이 되서 올바른 predict를 할 수 없다.\n",
        "\n",
        "\n",
        "knn_pred = knn_model.predict(X_test)\n",
        "#metrics.accuracy_score가 예측결과의 정확도를 알려주는 함수다. accuracy_score는 metrics에 들어있다.\n",
        "#얼마나 정확한지 그것까지 평가하는 함수를 넣어놓는것이 score이다.\n",
        "print('knn accuracy:{:.3f}'.format(metrics.accuracy_score(y_test, knn_pred)))\n",
        "\n",
        "#사진참조"
      ],
      "metadata": {
        "colab": {
          "base_uri": "https://localhost:8080/"
        },
        "id": "pPBIjzPnedNB",
        "outputId": "b8207952-a08a-43fb-c700-3f9ebbdc8064"
      },
      "execution_count": null,
      "outputs": [
        {
          "output_type": "stream",
          "name": "stdout",
          "text": [
            "knn accuracy:0.956\n"
          ]
        }
      ]
    },
    {
      "cell_type": "code",
      "source": [
        "#데이터들을 컴퓨터 내에서 이것저것 섞으면서 같은 데이터 같은 코드를 써도 결과가 다를 수 있다(차이가 거의 없다).\n",
        "\n",
        "#최적의 k값 시각화\n",
        "k_range = range(1,100)\n",
        "scores = []\n",
        "\n",
        "for k in k_range:\n",
        "    knn = KNeighborsClassifier(n_neighbors = k)\n",
        "    knn.fit(X_train, y_train)\n",
        "    scores.append(knn.score(X_test, y_test))\n",
        "\n",
        "plt.plot(k_range, scores)\n",
        "plt.xlabel(\"value of k\")\n",
        "plt.ylabel(\"Accuracy Score\")\n",
        "plt.title(\"k-NN Accuracy score\")\n",
        "plt.show()"
      ],
      "metadata": {
        "colab": {
          "base_uri": "https://localhost:8080/",
          "height": 472
        },
        "id": "v2LOwwwigk1r",
        "outputId": "398af86e-b2fc-4d8d-dc11-41e4a158977f"
      },
      "execution_count": null,
      "outputs": [
        {
          "output_type": "display_data",
          "data": {
            "text/plain": [
              "<Figure size 640x480 with 1 Axes>"
            ],
            "image/png": "[encoded data removed]"
          },
          "metadata": {}
        }
      ]
    }
  ]
}