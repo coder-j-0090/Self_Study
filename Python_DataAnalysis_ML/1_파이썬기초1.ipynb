{
  "nbformat": 4,
  "nbformat_minor": 0,
  "metadata": {
    "colab": {
      "provenance": [],
      "authorship_tag": "ABX9TyPxaMzEHiqv/UYfFZsOvl/m",
      "include_colab_link": true
    },
    "kernelspec": {
      "name": "python3",
      "display_name": "Python 3"
    },
    "language_info": {
      "name": "python"
    }
  },
  "cells": [
    {
      "cell_type": "markdown",
      "metadata": {
        "id": "view-in-github",
        "colab_type": "text"
      },
      "source": [
        "<a href=\"https://colab.research.google.com/github/coder-j-0090/Self_Study/blob/main/Python_DataAnalysis_ML/1_%ED%8C%8C%EC%9D%B4%EC%8D%AC%EA%B8%B0%EC%B4%881.ipynb\" target=\"_parent\"><img src=\"https://colab.research.google.com/assets/colab-badge.svg\" alt=\"Open In Colab\"/></a>"
      ]
    },
    {
      "cell_type": "code",
      "execution_count": null,
      "metadata": {
        "colab": {
          "base_uri": "https://localhost:8080/"
        },
        "id": "uyDgnukXFOkd",
        "outputId": "122e88dc-acce-4703-d7cc-bfa050abc655"
      },
      "outputs": [
        {
          "output_type": "stream",
          "name": "stdout",
          "text": [
            "3\n",
            "3\n"
          ]
        }
      ],
      "source": [
        "a = input()\n",
        "print(a)"
      ]
    },
    {
      "cell_type": "markdown",
      "source": [
        "파이썬은 변수 datatype 안쓰고 그냥 쓴다."
      ],
      "metadata": {
        "id": "tLDoPLK8FXEb"
      }
    },
    {
      "cell_type": "code",
      "source": [
        "a=input('input number')   #' ' 안에 있는건 안내메세지\n",
        "print(a*2)"
      ],
      "metadata": {
        "colab": {
          "base_uri": "https://localhost:8080/"
        },
        "id": "IxhnMjt4FqT2",
        "outputId": "5ee50bf5-0311-4dd1-a76a-8d8efa82fac4"
      },
      "execution_count": null,
      "outputs": [
        {
          "output_type": "stream",
          "name": "stdout",
          "text": [
            "input number4\n",
            "44\n"
          ]
        }
      ]
    },
    {
      "cell_type": "markdown",
      "source": [
        "a를 두번썼다. 숫자로 인식이 안됐다. 데이터 타입을 안써줘서"
      ],
      "metadata": {
        "id": "z41mt1uTF-pR"
      }
    },
    {
      "cell_type": "code",
      "source": [
        "a= int( input('input number '))   #int 로 데이터타입 선언하면 숫자로 인식한다.\n",
        "print(a*3)"
      ],
      "metadata": {
        "id": "Cham9uz2GHr_"
      },
      "execution_count": null,
      "outputs": []
    },
    {
      "cell_type": "code",
      "source": [
        "a = int( input('input number1 : '))\n",
        "b = int( input('input number2 : '))\n",
        "print(a+b)\n",
        "print(a-b)\n",
        "print(a*b)\n",
        "print(a/b)    #나누기   1/3 =. .333333\n",
        "print(a//b)   #몫      0\n",
        "print(a%b)\n",
        "print(a**b)   #거듭제곱(제곱지수)     a^b"
      ],
      "metadata": {
        "id": "ScplzwH4GbPx"
      },
      "execution_count": null,
      "outputs": []
    },
    {
      "cell_type": "code",
      "source": [
        "a, b, c = map( int, input('3 nums').split(',')  )         #.을 찍었단거는 앞에걸 객체로 인식. 아무것도 안쓰면 공백으로 쪼개고. ' ' 안에 넣은걸 기준으로 쪼갠다. Comma Seperate Value\n",
        "                                                          # map 은 뒤에 있는 내용을 앞에 있는 데이터 타입으로 바꾼다 (map(datatype, input('3nums').split(',')))\n",
        "print( a+b+c)"
      ],
      "metadata": {
        "colab": {
          "base_uri": "https://localhost:8080/"
        },
        "id": "mMZ2lLD6HVan",
        "outputId": "cbeeb63a-9a67-45aa-da27-37e40f12c7e4"
      },
      "execution_count": null,
      "outputs": [
        {
          "output_type": "stream",
          "name": "stdout",
          "text": [
            "3 nums5,7,8\n",
            "20\n"
          ]
        }
      ]
    },
    {
      "cell_type": "code",
      "source": [
        "print('hello')\n",
        "print(\" 'hello' \")\n",
        "print(' \"hello\" ')\n",
        "\n",
        "print('''hello\n",
        "bye''')   #세개 짜리를 쓰면 줄바꾸기도 이런식으로 가능 '를 쓰던 \" 를 쓰던 '''를 쓰던 세 쌍만 쓰면 된다.\n",
        "\n"
      ],
      "metadata": {
        "colab": {
          "base_uri": "https://localhost:8080/"
        },
        "id": "s3Hbi-8YIhEB",
        "outputId": "59b74553-39e7-4f12-d8c6-7c9238beec36"
      },
      "execution_count": null,
      "outputs": [
        {
          "output_type": "stream",
          "name": "stdout",
          "text": [
            "hello\n",
            " 'hello' \n",
            " \"hello\" \n",
            "hello\n",
            "bye\n"
          ]
        }
      ]
    },
    {
      "cell_type": "code",
      "source": [
        "print(a,b,c)    #위에서 입력한 변수를 얘가 안다.\n",
        "print(a, '+', b, '=', a+b)"
      ],
      "metadata": {
        "id": "jWNZbTFBJXkZ"
      },
      "execution_count": null,
      "outputs": []
    },
    {
      "cell_type": "code",
      "source": [
        "print('%d+%d=%d'%(a,b,a+b))\n",
        "print('%d+%d=%2d'%(a,b,a+b))"
      ],
      "metadata": {
        "id": "6cQHklMYJ5rq"
      },
      "execution_count": null,
      "outputs": []
    },
    {
      "cell_type": "code",
      "source": [
        "print( '{}+{}={}'.format(a,b,a+b))    #원래순서0, 1, 2\n",
        "print( '{1}+{0}={2}'.format(a,b,a+b)) #순서를 1, 0, 2로 바꾼다.\n",
        "print( '{1}+{0:2d}={2}'.format(a,b,a+b))    #:2d 를 사용한다."
      ],
      "metadata": {
        "id": "_yrfAtJyKNoH"
      },
      "execution_count": null,
      "outputs": []
    },
    {
      "cell_type": "code",
      "source": [
        "#줄안바꾸고 출력\n",
        "print('1hello')\n",
        "print(\" '2hello' \")\n",
        "print(' \"3hello\" ',end='\\n')\n",
        "print('4hello ',end='')   #end 값 바꿧다. 재정의했다.(overriding)\n",
        "print('5 hello')"
      ],
      "metadata": {
        "id": "ZWiXPWsWLNqB"
      },
      "execution_count": null,
      "outputs": []
    },
    {
      "cell_type": "markdown",
      "source": [
        "## **입출력 끝!**"
      ],
      "metadata": {
        "id": "2_C29N8FW701"
      }
    },
    {
      "cell_type": "code",
      "source": [
        "kor, eng, math = map(int, input('Enter score: ').split(','))\n",
        "\n",
        "if kor==100 or eng==100 or math==100:\n",
        "    print(\"Special Pass\")\n",
        "\n",
        "elif kor+eng+math>180 and kor>=40 and eng>=40 and math>=40 :\n",
        "    print('Pass!')\n",
        "\n",
        "else :\n",
        "    print('go home')"
      ],
      "metadata": {
        "id": "GSFKSUbfLvpN"
      },
      "execution_count": null,
      "outputs": []
    },
    {
      "cell_type": "code",
      "source": [
        "for x in range(1, 11, 1) :  #range(a,b,c)    a 이상 b미만 증감치c. c에서는 배열 파이썬에서는 리스트. 리스트 안의 값을 하나씩 넣어서 프린트한다.\n",
        "    print(x)"
      ],
      "metadata": {
        "id": "u6rYhUZcNQqM"
      },
      "execution_count": null,
      "outputs": []
    },
    {
      "cell_type": "code",
      "source": [
        "for x in range(1, 11, 1):\n",
        "    print(x, end = ' ')     #한칸 띄우기"
      ],
      "metadata": {
        "id": "DW2ZXoD1N7TU"
      },
      "execution_count": null,
      "outputs": []
    },
    {
      "cell_type": "code",
      "source": [
        "for x in [11, 5, 8, 3, 9, 0]:\n",
        "    print(x, end = ' ')\n",
        "\n",
        "# range 자체가 함수라 리스트 안에껄 하나씩 꺼내서 출력한다. 공식명칭 : unpacking."
      ],
      "metadata": {
        "id": "USSzGnZ1OEFD"
      },
      "execution_count": null,
      "outputs": []
    },
    {
      "cell_type": "code",
      "source": [
        "a = [1,3,5,7]\n",
        "7 in a      #in 의 역활은 안에 들어있는지 체크하는것"
      ],
      "metadata": {
        "id": "y3WzQsRGObgg"
      },
      "execution_count": null,
      "outputs": []
    },
    {
      "cell_type": "code",
      "source": [
        "for x in range(1, 11, 1):\n",
        "    print(x, end=' ')\n",
        "\n",
        "print()\n",
        "\n",
        "for x in range(1, 11):          #증감치는 생략하면 무조건 +1이다.\n",
        "    print(x, end=' ')\n",
        "\n",
        "print()\n",
        "\n",
        "for x in range(11):         #시작값은 생략하면 0 이 된다.\n",
        "    print(x, end=' ')"
      ],
      "metadata": {
        "id": "VygR4U2xOuiX"
      },
      "execution_count": null,
      "outputs": []
    },
    {
      "cell_type": "code",
      "source": [
        "for x in range(1, 11, 1):\n",
        "    for y in range(x, 11, 1):\n",
        "        print('*', end=' ')\n",
        "    print()\n",
        "\n",
        "print()\n",
        "print()\n",
        "\n",
        "for x in range(1, 11, 1):\n",
        "    for y in range(1, x, 1):\n",
        "        print('*', end = ' ')\n",
        "    print()"
      ],
      "metadata": {
        "id": "gCEpddWtPJqd",
        "colab": {
          "base_uri": "https://localhost:8080/"
        },
        "outputId": "f2ad6de5-bf55-4529-d839-fc34890f2f0c"
      },
      "execution_count": null,
      "outputs": [
        {
          "output_type": "stream",
          "name": "stdout",
          "text": [
            "* * * * * * * * * * \n",
            "* * * * * * * * * \n",
            "* * * * * * * * \n",
            "* * * * * * * \n",
            "* * * * * * \n",
            "* * * * * \n",
            "* * * * \n",
            "* * * \n",
            "* * \n",
            "* \n",
            "\n",
            "\n",
            "\n",
            "* \n",
            "* * \n",
            "* * * \n",
            "* * * * \n",
            "* * * * * \n",
            "* * * * * * \n",
            "* * * * * * * \n",
            "* * * * * * * * \n",
            "* * * * * * * * * \n"
          ]
        }
      ]
    },
    {
      "cell_type": "code",
      "source": [
        "a=1\n",
        "sum=0\n",
        "\n",
        "while sum<1000:\n",
        "    sum+=a\n",
        "    a += 1          #a++ 가 안된다.\n",
        "\n",
        "print(a)"
      ],
      "metadata": {
        "id": "r7eGca51Pq8M",
        "colab": {
          "base_uri": "https://localhost:8080/"
        },
        "outputId": "fb22c2cb-4ac6-49d9-f4a4-498b174ccfeb"
      },
      "execution_count": null,
      "outputs": [
        {
          "output_type": "stream",
          "name": "stdout",
          "text": [
            "46\n"
          ]
        }
      ]
    },
    {
      "cell_type": "code",
      "source": [
        "num1, num2 = map(int, input(\"Enter number: \").split(','))       #num1 은 메인숫자1, num2 는 메인숫자2\n",
        "\n",
        "while num1!=num2 :\n",
        "    if num1>num2 :\n",
        "        num1 = num1 - num2\n",
        "\n",
        "    else :\n",
        "        num2 = num2 - num1\n",
        "\n",
        "    #밑에꺼나 위에꺼나 결과는 같다. 논리적으로 else 가 더 맞다.\n",
        "    # if num2>num1 :\n",
        "    #     num2 = num2 - num1\n",
        "\n",
        "print(num1, end = ' ')\n",
        "print(num2)\n",
        "\n",
        "\n"
      ],
      "metadata": {
        "id": "CXvi_C3dQMot"
      },
      "execution_count": null,
      "outputs": []
    },
    {
      "cell_type": "code",
      "source": [
        "type('hello')   #타입찾기\n",
        "\n",
        "type(1)\n",
        "\n",
        "#print 안쓰고 그냥 type 만 쓰면 다 값이 안나온다.\n"
      ],
      "metadata": {
        "id": "D75qL2wwSHP1"
      },
      "execution_count": null,
      "outputs": []
    },
    {
      "cell_type": "code",
      "source": [
        "id(' hello ')           #메모리주소"
      ],
      "metadata": {
        "id": "dekqIhkNSelg"
      },
      "execution_count": null,
      "outputs": []
    },
    {
      "cell_type": "markdown",
      "source": [
        "## **For, while, if 등의 반복문&조건문 완료**"
      ],
      "metadata": {
        "id": "oteBGNRcXIew"
      }
    },
    {
      "cell_type": "code",
      "source": [
        "#메소드\n",
        "def hello():\n",
        "    print(\"hi!\")\n",
        "\n",
        "def bye():\n",
        "    print(\"good bye\")\n",
        "\n",
        "def sum(x,y):\n",
        "    return x+y\n",
        "\n",
        "def average(x):\n",
        "    return x/2\n",
        "\n",
        "hello()\n",
        "\n",
        "a, b = map(int, input(\"Enter num : \").split(','))\n",
        "c=sum(a,b)\n",
        "d=average(c)\n",
        "\n",
        "print(c)\n",
        "print(d)\n",
        "bye()"
      ],
      "metadata": {
        "id": "dwzksreiSqZl"
      },
      "execution_count": null,
      "outputs": []
    },
    {
      "cell_type": "code",
      "source": [
        "#factorial\n",
        "\n",
        "num = int(input(\"Enter value :\"))\n",
        "\n",
        "def factorial(x):\n",
        "    if(n==1):\n",
        "        return 1;\n",
        "    else:\n",
        "        return x*factorial(x-1)\n",
        "\n",
        "#재귀함수 규칙\n",
        "#1.basic case : 끝날떄의 조건을 써줘야한다.\n",
        "#2.normal case : 일반적으로 반복하는거\n",
        "#1 과 2의 순서를 안지키면 무한 반복이다.\n",
        "\n",
        "print(factorial(num))"
      ],
      "metadata": {
        "id": "libtJVQKTmO4"
      },
      "execution_count": null,
      "outputs": []
    },
    {
      "cell_type": "code",
      "source": [
        "#fibonacci\n",
        "\n",
        "def fibo(n):\n",
        "    if n<=2:\n",
        "        return 1\n",
        "    else :\n",
        "        return fibo(n-1)+fibo(n-2)\n",
        "\n",
        "print(fibo(5))"
      ],
      "metadata": {
        "id": "NiTXQEdaWOou"
      },
      "execution_count": null,
      "outputs": []
    },
    {
      "cell_type": "markdown",
      "source": [
        "## **메소드 완료**"
      ],
      "metadata": {
        "id": "LrM62B8qXNNw"
      }
    },
    {
      "cell_type": "code",
      "source": [
        "#계단문제. 개구리 점프뛰기. 20칸의 계단을 올라야한다. 가능한 점프수는 1칸, 2칸, 3칸.\n",
        "\n",
        "#첫칸은 한번\n",
        "#둘째칸은 한번 한번, 한번\n",
        "#셋째칸은 한번 한번 한번, 두번 한번, 한번 두번, 세번\n",
        "\n",
        "#chat gpt 한테 해결법 묻기전에 4,5,6,7,8번쨰 칸에 올라갈 수 있는 경우의 수의 갯수를 알아보고 노력해보고 다시 물어보라\n",
        "\n",
        "\n",
        "num = int(input(\"Enter number : \"))\n",
        "def frog(n):\n",
        "    if n==num:\n",
        "        return 1\n",
        "    else :\n",
        "        return frog(n-1)+frog(n-2)+frog(n-3)\n",
        "\n",
        "print(frog(num))"
      ],
      "metadata": {
        "id": "U-sWvMOsXe80"
      },
      "execution_count": null,
      "outputs": []
    },
    {
      "cell_type": "markdown",
      "source": [
        "def count_ways(n):\n",
        "    if n == 0 or n == 1:\n",
        "        return 1\n",
        "    elif n == 2:\n",
        "        return 2\n",
        "    else:\n",
        "        return count_ways(n-1) + count_ways(n-2) + count_ways(n-3)\n",
        "\n",
        "# 개구리가 20칸의 계단을 오를 수 있는 방법의 수 계산\n",
        "result = count_ways(20)\n",
        "print(result)\n",
        "\n",
        "\n",
        "count_ways(5)\n",
        "= count_ways(4) + count_ways(3) + count_ways(2)\n",
        "= (count_ways(3) + count_ways(2) + count_ways(1)) + (count_ways(2) + count_ways(1) + count_ways(0)) + count_ways(2)\n",
        "= ((count_ways(2) + count_ways(1) + count_ways(0)) + count_ways(1) + count_ways(1)) + (count_ways(1) + count_ways(1) + count_ways(0)) + count_ways(2)\n",
        "= ((2 + 1 + 1) + 1 + 1) + (1 + 1 + 1) + 2\n",
        "= 8\n"
      ],
      "metadata": {
        "id": "ajhjDNwegCcr"
      }
    }
  ]
}