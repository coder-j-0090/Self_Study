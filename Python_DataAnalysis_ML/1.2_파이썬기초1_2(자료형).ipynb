{
  "nbformat": 4,
  "nbformat_minor": 0,
  "metadata": {
    "colab": {
      "provenance": [],
      "authorship_tag": "ABX9TyMAfTmIacrJQgP1o04pZPvU",
      "include_colab_link": true
    },
    "kernelspec": {
      "name": "python3",
      "display_name": "Python 3"
    },
    "language_info": {
      "name": "python"
    }
  },
  "cells": [
    {
      "cell_type": "markdown",
      "metadata": {
        "id": "view-in-github",
        "colab_type": "text"
      },
      "source": [
        "<a href=\"https://colab.research.google.com/github/coder-j-0090/Self_Study/blob/main/Python_DataAnalysis_ML/1.2_%ED%8C%8C%EC%9D%B4%EC%8D%AC%EA%B8%B0%EC%B4%881_2(%EC%9E%90%EB%A3%8C%ED%98%95).ipynb\" target=\"_parent\"><img src=\"https://colab.research.google.com/assets/colab-badge.svg\" alt=\"Open In Colab\"/></a>"
      ]
    },
    {
      "cell_type": "markdown",
      "source": [
        "특성이 달라서 따로 배워야 되는거라 새로운 파일을 만든거다. ipynb 는 collab 노트파일 확장자.\n",
        "\n",
        "특이한 자료형\n",
        "\n",
        "리스트\n",
        "밑에껀 리스트 만들기 4가지 방법\n"
      ],
      "metadata": {
        "id": "TeDJevruZ4Cz"
      }
    },
    {
      "cell_type": "markdown",
      "source": [
        "### **리스트의 4가지 방법**"
      ],
      "metadata": {
        "id": "7a770pUWXSg4"
      }
    },
    {
      "cell_type": "code",
      "execution_count": null,
      "metadata": {
        "colab": {
          "base_uri": "https://localhost:8080/"
        },
        "id": "I-Zszuz6ZzCZ",
        "outputId": "e38e431e-2e45-43d4-ab1b-ba8585bb45aa"
      },
      "outputs": [
        {
          "output_type": "stream",
          "name": "stdout",
          "text": [
            "[1, 2, 3]\n",
            "2\n",
            "[1, 2, 3, 1, 2, 3]\n"
          ]
        }
      ],
      "source": [
        "#List1\n",
        "a = [1,2,3]\n",
        "print(a)\n",
        "print(a[1])\n",
        "print(a*2)\n",
        "\n"
      ]
    },
    {
      "cell_type": "code",
      "source": [
        "#List2\n",
        "a=[]        #추가 추가 하는방식으로 삽입. append 사용. List 클래스에 미리 만들어져 있다.\n",
        "for x in range(1,11,1):\n",
        "    a.append(x)\n",
        "\n",
        "print(a)\n",
        "\n",
        "b=[1,3,5]\n",
        "a = a+b         #리스트끼리 더하면 뒤에 이어붙어진다.\n",
        "print(a)\n",
        "\n"
      ],
      "metadata": {
        "colab": {
          "base_uri": "https://localhost:8080/"
        },
        "id": "Tmv7j3FEbED9",
        "outputId": "6705a5c2-c0a0-4d9a-fb91-f7436c1e6da0"
      },
      "execution_count": null,
      "outputs": [
        {
          "output_type": "stream",
          "name": "stdout",
          "text": [
            "[1, 2, 3, 4, 5, 6, 7, 8, 9, 10]\n",
            "[1, 2, 3, 4, 5, 6, 7, 8, 9, 10, 1, 3, 5]\n"
          ]
        }
      ]
    },
    {
      "cell_type": "markdown",
      "source": [
        "리스트 표현식"
      ],
      "metadata": {
        "id": "6Utq9QJ4cVBe"
      }
    },
    {
      "cell_type": "code",
      "source": [
        "#List3\n",
        "a = [ 0 for x in range(10)]     #앞의 0 대신 다른것도 사용 가능\n",
        "print(a)"
      ],
      "metadata": {
        "colab": {
          "base_uri": "https://localhost:8080/"
        },
        "id": "5O5zgkokcDAL",
        "outputId": "ae046c87-f62c-4bb6-b320-f3c62e2c6131"
      },
      "execution_count": null,
      "outputs": [
        {
          "output_type": "stream",
          "name": "stdout",
          "text": [
            "[0, 0, 0, 0, 0, 0, 0, 0, 0, 0]\n"
          ]
        }
      ]
    },
    {
      "cell_type": "markdown",
      "source": [
        "생성자 이용해서 실행"
      ],
      "metadata": {
        "id": "gFS7H7XLcgMZ"
      }
    },
    {
      "cell_type": "code",
      "source": [
        "#List4\n",
        "a = list(range(1,11,2))      #홀수만 출력\n",
        "print(a)"
      ],
      "metadata": {
        "colab": {
          "base_uri": "https://localhost:8080/"
        },
        "id": "eEBWU8xHcjNJ",
        "outputId": "54165498-aa95-4bb7-89d4-5c9a2e32bd33"
      },
      "execution_count": null,
      "outputs": [
        {
          "output_type": "stream",
          "name": "stdout",
          "text": [
            "[1, 3, 5, 7, 9]\n"
          ]
        }
      ]
    },
    {
      "cell_type": "markdown",
      "source": [
        "타입에 상관없이 막 넣어도 된다\n"
      ],
      "metadata": {
        "id": "KP5e8lc_dG3c"
      }
    },
    {
      "cell_type": "code",
      "source": [
        "a = [1, 'a', 3.14, \"hello\", [1,4,5], \"돼지\"]        #데이터 타입 상관없이 막 집어넣을 수 있다.\n",
        "print(a)"
      ],
      "metadata": {
        "colab": {
          "base_uri": "https://localhost:8080/"
        },
        "id": "jpX2huLodIr6",
        "outputId": "9473082f-b407-4440-feb7-701e06f2a0bc"
      },
      "execution_count": null,
      "outputs": [
        {
          "output_type": "stream",
          "name": "stdout",
          "text": [
            "[1, 'a', 3.14, 'hello', [1, 4, 5], '돼지']\n"
          ]
        }
      ]
    },
    {
      "cell_type": "code",
      "source": [
        "a[3][2]"
      ],
      "metadata": {
        "colab": {
          "base_uri": "https://localhost:8080/",
          "height": 35
        },
        "id": "xIYlK-fjdRij",
        "outputId": "441759a5-bc27-414a-8e2b-97d861c9fa3b"
      },
      "execution_count": null,
      "outputs": [
        {
          "output_type": "execute_result",
          "data": {
            "text/plain": [
              "'l'"
            ],
            "application/vnd.google.colaboratory.intrinsic+json": {
              "type": "string"
            }
          },
          "metadata": {},
          "execution_count": 22
        }
      ]
    },
    {
      "cell_type": "markdown",
      "source": [
        "## **슬라이싱(공식명칭)**"
      ],
      "metadata": {
        "id": "kix1wxuheEPS"
      }
    },
    {
      "cell_type": "code",
      "source": [
        "a = [1,2,3,4,5,6,7,8,9,0]\n",
        "                #-3,-2,-1\n",
        "print(a[3 : 7])     #3이상 7 미만\n",
        "print(a[:7])\n",
        "print(a[3: ])\n",
        "print( a[:])\n",
        "print(a[-1])\n",
        "print(a[-5:-1])\n",
        "print(a[-2:7])      #왼쪽이 이상, 오른쪽이 미만\n",
        "print(a[3:20])      #슬라이싱 에서는 값을 넘어가면 끝에꺼 까지만 나온다.\n",
        "\n",
        "#갯수 몇개있는지 알려주는 함수가 len 이다.\n",
        "print(len(a))\n",
        "type(a)"
      ],
      "metadata": {
        "colab": {
          "base_uri": "https://localhost:8080/"
        },
        "id": "pAWVTBHXeGOg",
        "outputId": "7cc16f5d-19bc-4060-ac1a-2204fe7d2a8a"
      },
      "execution_count": null,
      "outputs": [
        {
          "output_type": "stream",
          "name": "stdout",
          "text": [
            "[4, 5, 6, 7]\n",
            "[1, 2, 3, 4, 5, 6, 7]\n",
            "[4, 5, 6, 7, 8, 9, 0]\n",
            "[1, 2, 3, 4, 5, 6, 7, 8, 9, 0]\n",
            "0\n",
            "[6, 7, 8, 9]\n",
            "[]\n",
            "[4, 5, 6, 7, 8, 9, 0]\n",
            "10\n"
          ]
        },
        {
          "output_type": "execute_result",
          "data": {
            "text/plain": [
              "list"
            ]
          },
          "metadata": {},
          "execution_count": 29
        }
      ]
    },
    {
      "cell_type": "markdown",
      "source": [
        "튜플"
      ],
      "metadata": {
        "id": "pWV_DyWlfbBM"
      }
    },
    {
      "cell_type": "code",
      "source": [
        "t = (1,2,3)\n",
        "print(t)\n",
        "print(type(t))"
      ],
      "metadata": {
        "colab": {
          "base_uri": "https://localhost:8080/"
        },
        "id": "T9nrko2WfeKt",
        "outputId": "8a779985-9769-4afa-d1d6-b6bc564d0f36"
      },
      "execution_count": null,
      "outputs": [
        {
          "output_type": "stream",
          "name": "stdout",
          "text": [
            "(1, 2, 3)\n",
            "<class 'tuple'>\n"
          ]
        }
      ]
    },
    {
      "cell_type": "markdown",
      "source": [
        "튜플과 리스트의 차이 : 튜플은 변경이나 추가가 안된다.\n",
        "값을 못바꾸게 해야할떄 튜플 사용\n",
        "\n",
        "내가 의도적으로 바꾸지 않는 이상 값은 고정이다.\n",
        "\n"
      ],
      "metadata": {
        "id": "ueOvLBxVfvz6"
      }
    },
    {
      "cell_type": "code",
      "source": [
        "a = list(t)     #튜플을 리스트로 만들고\n",
        "print(a)\n",
        "\n",
        "print()\n",
        "\n",
        "for x in range(3):\n",
        "    a[x]=a[x]*2\n",
        "\n",
        "print(a)\n",
        "\n",
        "t = tuple(a)\n",
        "print(t)"
      ],
      "metadata": {
        "colab": {
          "base_uri": "https://localhost:8080/"
        },
        "id": "aZmtiF4afzvv",
        "outputId": "fd0318e7-c506-4c4e-923c-34d3d714efec"
      },
      "execution_count": null,
      "outputs": [
        {
          "output_type": "stream",
          "name": "stdout",
          "text": [
            "[1, 2, 3]\n",
            "\n",
            "[2, 4, 6]\n",
            "(2, 4, 6)\n"
          ]
        }
      ]
    },
    {
      "cell_type": "markdown",
      "source": [
        "딕셔너리 {} 사용"
      ],
      "metadata": {
        "id": "N3FJyzVmhBEq"
      }
    },
    {
      "cell_type": "code",
      "source": [
        "a={ 1:'hongkildong', 2:85, 'C':['cider','350ml',1000]}\n",
        "print(a['C'])\n",
        "\n",
        "#없는걸 찾으면 에러뜬다\n",
        "#print(a['F'])\n",
        "\n",
        "#딕셔너리는 수정 가능\n",
        "a['C'] = ['cola', 1500, 3000]\n",
        "print(a['C'])\n",
        "\n",
        "\n",
        "a['F'] = \"F D B\"\n",
        "print(a['F'])"
      ],
      "metadata": {
        "colab": {
          "base_uri": "https://localhost:8080/"
        },
        "id": "qcOh7eOvhDCn",
        "outputId": "2d9d5851-9401-4694-9dcd-bd20fd4ffea4"
      },
      "execution_count": null,
      "outputs": [
        {
          "output_type": "stream",
          "name": "stdout",
          "text": [
            "['cider', '350ml', 1000]\n",
            "['cola', 1500, 3000]\n",
            "F D B\n"
          ]
        }
      ]
    }
  ]
}