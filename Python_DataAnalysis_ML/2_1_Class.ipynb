{
  "nbformat": 4,
  "nbformat_minor": 0,
  "metadata": {
    "colab": {
      "provenance": [],
      "authorship_tag": "ABX9TyMiZ5mx6FXkb6wuTGQAqdhM",
      "include_colab_link": true
    },
    "kernelspec": {
      "name": "python3",
      "display_name": "Python 3"
    },
    "language_info": {
      "name": "python"
    }
  },
  "cells": [
    {
      "cell_type": "markdown",
      "metadata": {
        "id": "view-in-github",
        "colab_type": "text"
      },
      "source": [
        "<a href=\"https://colab.research.google.com/github/coder-j-0090/Self_Study/blob/main/Python_DataAnalysis_ML/2_Class.ipynb\" target=\"_parent\"><img src=\"https://colab.research.google.com/assets/colab-badge.svg\" alt=\"Open In Colab\"/></a>"
      ]
    },
    {
      "cell_type": "markdown",
      "source": [
        "표준정규분포, 정규분포, 독립시행, 이항분포, 이항정리, t분포"
      ],
      "metadata": {
        "id": "CMIAyokfLtSG"
      }
    },
    {
      "cell_type": "code",
      "source": [
        "class Pikachu:\n",
        "    #생성자는 이름이 정해져있다. 생성자 안에 필드를 저장해준다.\n",
        "    def __init__(self):\n",
        "        self.name = 'pika'\n",
        "        self.age = 6\n",
        "        self.weight = 33\n",
        "    #다른 함수를 만들어도 되는데 self를 넣어줘야한다. 자신의 객체를 의미한다. 변수를 선언하지 않고 쓰기 때문에 자기자신임을 self 를 통해서 자기자신을 언급한다.\n",
        "    def print(self):\n",
        "        print(self.name)\n",
        "        print(self.age)\n",
        "        print(self.weight)\n",
        "\n",
        "    def attack(self):\n",
        "        print(self.name, ', 100만볼트 공격!')\n",
        "\n",
        "pika = Pikachu()\n",
        "\n",
        "pika.print()\n",
        "pika.attack()\n",
        "\n",
        "#클래스의 형태다."
      ],
      "metadata": {
        "colab": {
          "base_uri": "https://localhost:8080/"
        },
        "id": "zD6KjD3rL7mr",
        "outputId": "c94a9f2b-fa30-49fe-d08f-0763792115e5"
      },
      "execution_count": null,
      "outputs": [
        {
          "output_type": "stream",
          "name": "stdout",
          "text": [
            "pika\n",
            "6\n",
            "33\n",
            "pika , 100만볼트 공격!\n"
          ]
        }
      ]
    },
    {
      "cell_type": "code",
      "source": [
        "#상속이 된다.\n",
        "class Raichuchuchu(Pikachu):\n",
        "    def __init__(self):\n",
        "        self.name = 'raichu'\n",
        "        self.age = 9\n",
        "        self.weight = 45\n",
        "    #오버라이딩\n",
        "    # def attack(self):\n",
        "    #     print(self.name, ', 1000만볼트 공격!')\n",
        "    #오버로딩\n",
        "    def attack(self,*args):\n",
        "        if len(args) == 0:\n",
        "            print(self.name, ', ', '1000 만볼트 공격!')\n",
        "        else:\n",
        "            print(self.name, ', ',*args,'만볼트 공격!')\n",
        "\n",
        "r = Raichuchuchu()\n",
        "r.print()\n",
        "print()\n",
        "r.attack()\n",
        "r.attack(8990)"
      ],
      "metadata": {
        "colab": {
          "base_uri": "https://localhost:8080/"
        },
        "id": "wPH0w-x4OzOo",
        "outputId": "4d892c38-5a43-4840-d498-094230de7b9c"
      },
      "execution_count": null,
      "outputs": [
        {
          "output_type": "stream",
          "name": "stdout",
          "text": [
            "raichu\n",
            "9\n",
            "45\n",
            "\n",
            "raichu ,  1000 만볼트 공격!\n",
            "raichu ,  8990 만볼트 공격!\n"
          ]
        }
      ]
    },
    {
      "cell_type": "markdown",
      "source": [
        "파이썬은 오버로딩이 안된다.\n",
        "피카추에서 어택을 할려고 했는데 하나는 인자가 없고 라이츄에서 어택(self) 상속받은거 하나랑 attack(self,v) 하나가 추가된걸 하고싶었는데 이게 안된다.\n",
        "가변인수(가변(가능)길이인수). 길이가 갯수를 의미한다. 길이의 갯수가 변화가 가능하다.\n",
        "\n",
        "*은 가변길이란 뜻이다. args(인수). 보통 *args는 튜플이다.\n",
        "attack(self,*args):\n",
        "\n",
        "# 파라미터 만들떄 순서가 (self, 확정인자, *가변인자, **가변인자). 순서 무조건 지켜라.\n",
        "튜플은 괄호 안써도 인식된다."
      ],
      "metadata": {
        "id": "3t8xo4dhSYyM"
      }
    }
  ]
}
