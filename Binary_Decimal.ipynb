{
  "nbformat": 4,
  "nbformat_minor": 0,
  "metadata": {
    "colab": {
      "provenance": [],
      "authorship_tag": "ABX9TyNgsZ0ASUqWzYCtsI9g2ltP",
      "include_colab_link": true
    },
    "kernelspec": {
      "name": "python3",
      "display_name": "Python 3"
    },
    "language_info": {
      "name": "python"
    }
  },
  "cells": [
    {
      "cell_type": "markdown",
      "metadata": {
        "id": "view-in-github",
        "colab_type": "text"
      },
      "source": [
        "<a href=\"https://colab.research.google.com/github/coder-j-0090/Self_Study/blob/main/Binary_Decimal.ipynb\" target=\"_parent\"><img src=\"https://colab.research.google.com/assets/colab-badge.svg\" alt=\"Open In Colab\"/></a>"
      ]
    },
    {
      "cell_type": "markdown",
      "source": [
        "## Change Binary Number to Decimal Number\n",
        "### or\n",
        "## Change Decimal Number to Binary number"
      ],
      "metadata": {
        "id": "37tDYxWNZKz0"
      }
    },
    {
      "cell_type": "code",
      "source": [
        "#Method to count the digit of number\n",
        "def count_the_digit(cnt_dig, check_num):\n",
        "    #If cnt_digit(number I want to count the digit) divided by(// : No decimal point) check_num(number I will use to check the value of ) is greater than 0\n",
        "    if cnt_dig//check_num > 0:\n",
        "        #Multiply 10 to check_num\n",
        "        check_num *= 10\n",
        "        #Use recursion to find the value\n",
        "        return count_the_digit(cnt_dig, check_num)\n",
        "    #If cnt_dig//check_num is smaller than 0\n",
        "    else:\n",
        "        #start the variable cnt with 0. It will count how many digit it is\n",
        "        cnt = 0\n",
        "        #while check_num is greater than 0\n",
        "        while check_num >0:\n",
        "            #Keep divideing(// : Use // to not deal with decimal point) check_num with 10\n",
        "            check_num //=10\n",
        "            #count how many times check_num is divided by 10\n",
        "            cnt += 1\n",
        "        #Subtract 1 to get the right number\n",
        "        cnt = cnt-1\n",
        "        return cnt"
      ],
      "metadata": {
        "id": "n7cWcp4v6sRJ"
      },
      "execution_count": null,
      "outputs": []
    },
    {
      "cell_type": "code",
      "source": [
        "#Binary to Decimal\n",
        "def bin_to_dec(bin_num):\n",
        "    #Insert the value of digit(find it from the method count_the_digit) in a variable dig_num\n",
        "    dig_num = count_the_digit(bin_num,1)\n",
        "    #Change bin_num to list from int using list(map(int, str(bin_num))). Ex) 1001 to [1,0,0,1]\n",
        "    bin_for_test = list(map(int, str(bin_num)))\n",
        "    #Variable test to show nth from the variable we get\n",
        "    test = 0\n",
        "    #total to show the decimal number(sum of the value following the formula).\n",
        "    total = 0\n",
        "    #In paranthesis, 'for statement' goes from first to less than second, so add 1 to dig_num(dig_num+1), so 'for statement' can go from 1 to actual dig_num\n",
        "    for i in range(1, dig_num+1, 1):\n",
        "        #total에 bin_for_test(숫자를 리스트로 바꿔놓은것)에서 n번쨰값을 곱해야하는데 n을 대신하기 위해서 test를 넣었고 test에 2의 몇 제곱인지 보여줄때 자릿수-1을 하려고 2**(dig_num-1)을 했다.\n",
        "        #추가로 total을 더해서 값들을 계속 더할수 있게 해주었다.\n",
        "        total = (bin_for_test[test] * (2**(dig_num-1))) + total\n",
        "        #After bin_for_test[0], it should be bin_for_test[1]. Keep adding 1 for each turn\n",
        "        test += 1\n",
        "        #Subtract 1 so it can go from 3 to 0\n",
        "        dig_num -= 1\n",
        "    return total"
      ],
      "metadata": {
        "id": "mLcacSBzkPah"
      },
      "execution_count": null,
      "outputs": []
    },
    {
      "cell_type": "code",
      "source": [
        "#Decimal to Binary\n",
        "def dec_to_bin(dec_num):\n",
        "    #Binary and Decimal have smae value for 0 and 1\n",
        "    if dec_num == 0 :\n",
        "        print(\"Binary is 0\")\n",
        "    elif dec_num == 1 :\n",
        "        print(\"Binary is 1\")\n",
        "    #If it's not 0 or 1\n",
        "    else :\n",
        "        #Use the variable add to keep the numbers\n",
        "        add = ''\n",
        "        #If dec_num is greater than or equal to 2, 'while statement' is keep working\n",
        "        while dec_num >= 2:\n",
        "            #Variable remainder is the remainder of dec_num divided by 2\n",
        "            remainder = dec_num%2\n",
        "            #Keep adding the value to 'add'. It is 123, but the type is string. The value is coming in reverser order of what we want, so keep adding the new value to the front\n",
        "            add = str(remainder) + add\n",
        "            #Divide dec_num to 2\n",
        "            dec_num //= 2\n",
        "            #Keep divide dec_num to 2, and if it becomes 0 or 1\n",
        "            if dec_num == 0 or dec_num == 1:\n",
        "                #Add it to the very front\n",
        "                add = str(dec_num) + add\n",
        "        #Change the type from string to int\n",
        "        add = int(add)\n",
        "    return add"
      ],
      "metadata": {
        "id": "rvb8DSv61cgo"
      },
      "execution_count": null,
      "outputs": []
    },
    {
      "cell_type": "code",
      "source": [
        "print(\"Option 1 is binary->decimal and Option 2 is decimal->binary.\")\n",
        "option_num = int(input(\"Choose Option: \"))\n",
        "if option_num == 1:\n",
        "    bin_to_dec_num = int(input(\"Enter the binary number: \"))\n",
        "    print(bin_to_dec(bin_to_dec_num))\n",
        "elif option_num == 2:\n",
        "    dec_to_bin_num = int(input(\"Enter the decimal number: \"))\n",
        "    print(dec_to_bin(dec_to_bin_num))\n",
        "else:\n",
        "    print(\"It does not exist. Try again.\")"
      ],
      "metadata": {
        "colab": {
          "base_uri": "https://localhost:8080/"
        },
        "id": "VHzGkLvgWDY-",
        "outputId": "b084345d-bb70-4087-b366-b2b2efd081b7"
      },
      "execution_count": null,
      "outputs": [
        {
          "name": "stdout",
          "output_type": "stream",
          "text": [
            "Option 1 is binary->decimal and Option 2 is decimal->binary.\n",
            "Choose Option: 1\n"
          ]
        }
      ]
    }
  ]
}